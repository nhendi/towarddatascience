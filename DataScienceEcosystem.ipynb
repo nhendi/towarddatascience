{
 "cells": [
  {
   "cell_type": "markdown",
   "id": "2efd6db4-437b-4ad5-b09a-e26937b78b33",
   "metadata": {
    "tags": []
   },
   "source": [
    "# Data Science Tools and Ecosystem"
   ]
  },
  {
   "cell_type": "markdown",
   "id": "a1c70684-5920-461d-a84b-1a00e48d04ac",
   "metadata": {},
   "source": [
    "In this notebook, Data Science Tools and Ecosystem are summarized."
   ]
  },
  {
   "cell_type": "markdown",
   "id": "dd12a53e-b0cd-414f-8d34-b0f0a54d32c7",
   "metadata": {},
   "source": [
    "__Objectives__\n",
    "\n",
    "* listing important Data Science languages and understanding their different use\n",
    "* listing important Data Science libraries and understanding their different use\n",
    "* importance of jupyter in Data Science as it is widely used\n",
    "* importance of R language and RStudio in Data Science\n",
    "* importance of Github for software development and version control\n"
   ]
  },
  {
   "cell_type": "markdown",
   "id": "23cd3958-c615-4656-a7d9-54f549a41768",
   "metadata": {},
   "source": [
    "Some of the popular languages that Data Scientist use are:\n",
    "<ol>\n",
    "  <li>PYTHON</li>\n",
    "  <li>R</li>\n",
    "  <li>SQL</li>\n",
    "  <li>JAVA</li>\n",
    "  <li>JULIA</li>\n",
    "</ol>"
   ]
  },
  {
   "cell_type": "markdown",
   "id": "45c3a750-6a5e-491a-bfb8-2dfb21d0f582",
   "metadata": {},
   "source": [
    "Some of the commonly used libraries used by Data Scientists include:\n",
    "<ol>\n",
    "  <li>TensorFlow</li>\n",
    "  <li>PyTorch</li>\n",
    "  <li>NumPy</li>\n",
    "  <li>Pandas</li>\n",
    "  <li>SciPy</li>\n",
    "  <li>SciKit-Learn</li>\n",
    "</ol>"
   ]
  },
  {
   "cell_type": "markdown",
   "id": "94f8e516-2b54-4ab2-9562-5fbe90de8295",
   "metadata": {
    "tags": []
   },
   "source": [
    "| Data Science Tools |\n",
    "|:--------:          |\n",
    "|  Jupyter           |\n",
    "|  RStudio           |\n",
    "|  Github            |\n",
    "|  Apache Spark      |\n",
    "|  TensorFlow        |"
   ]
  },
  {
   "cell_type": "markdown",
   "id": "5eb01c7e-2476-4b40-b103-86ab63649c1f",
   "metadata": {},
   "source": [
    "<h3> Below are a few examples of evaluating arithmetic expressions in Python. </h3>"
   ]
  },
  {
   "cell_type": "code",
   "execution_count": 10,
   "id": "9eba7825-ad97-4e82-83f6-90f438f0dcca",
   "metadata": {
    "tags": []
   },
   "outputs": [
    {
     "data": {
      "text/plain": [
       "17"
      ]
     },
     "execution_count": 10,
     "metadata": {},
     "output_type": "execute_result"
    }
   ],
   "source": [
    "'''\n",
    "This is a simple arithmetic expression to multiply then add integers.\n",
    "'''\n",
    "(3*4)+5"
   ]
  },
  {
   "cell_type": "code",
   "execution_count": 11,
   "id": "7eda35e3-8497-408d-9c60-7e3d621fb839",
   "metadata": {
    "tags": []
   },
   "outputs": [
    {
     "name": "stdout",
     "output_type": "stream",
     "text": [
      "3.3333333333333335 hours\n"
     ]
    }
   ],
   "source": [
    "'''\n",
    "This will convert 200 minutes into hours equivalence by dividing it by 60.\n",
    "'''\n",
    "def min_to_hour(min_x):\n",
    "    return(min_x/60)\n",
    "print(str(min_to_hour(200))+' hours')"
   ]
  },
  {
   "cell_type": "markdown",
   "id": "7f7a393b-3e4e-4a3c-995b-b3803c9ef369",
   "metadata": {},
   "source": [
    "<h2> Author </h2>\n",
    "NIMA HENDI"
   ]
  }
 ],
 "metadata": {
  "kernelspec": {
   "display_name": "Python",
   "language": "python",
   "name": "conda-env-python-py"
  },
  "language_info": {
   "codemirror_mode": {
    "name": "ipython",
    "version": 3
   },
   "file_extension": ".py",
   "mimetype": "text/x-python",
   "name": "python",
   "nbconvert_exporter": "python",
   "pygments_lexer": "ipython3",
   "version": "3.7.12"
  }
 },
 "nbformat": 4,
 "nbformat_minor": 5
}
